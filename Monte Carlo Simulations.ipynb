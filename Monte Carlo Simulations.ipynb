{
 "cells": [
  {
   "cell_type": "markdown",
   "metadata": {
    "collapsed": true,
    "pycharm": {
     "name": "#%% md\n"
    }
   },
   "source": [
    "# Monte Carlo Simulation with Python\n",
    "\n",
    "### Jupyter Notebook by Carlos Santillán\n",
    "### Source: Patrick Hanbury"
   ]
  },
  {
   "cell_type": "markdown",
   "source": [
    "**Initial Block**"
   ],
   "metadata": {
    "collapsed": false
   }
  },
  {
   "cell_type": "code",
   "execution_count": 2,
   "outputs": [
    {
     "name": "stdout",
     "text": [
      "Requirement already satisfied: pandas_datareader in c:\\users\\pc\\appdata\\local\\programs\\python\\python36\\lib\\site-packages (0.8.1)",
      "\n",
      "Requirement already satisfied: lxml in c:\\users\\pc\\appdata\\local\\programs\\python\\python36\\lib\\site-packages (from pandas_datareader) (4.4.1)",
      "\n",
      "Requirement already satisfied: pandas>=0.21 in c:\\users\\pc\\appdata\\roaming\\python\\python36\\site-packages (from pandas_datareader) (0.23.0)",
      "\n",
      "Requirement already satisfied: requests>=2.3.0 in c:\\users\\pc\\appdata\\roaming\\python\\python36\\site-packages (from pandas_datareader) (2.22.0)",
      "\n",
      "Requirement already satisfied: python-dateutil>=2.5.0 in c:\\users\\pc\\appdata\\local\\programs\\python\\python36\\lib\\site-packages (from pandas>=0.21->pandas_datareader) (2.6.1)",
      "\n",
      "Requirement already satisfied: pytz>=2011k in c:\\users\\pc\\appdata\\roaming\\python\\python36\\site-packages (from pandas>=0.21->pandas_datareader) (2018.4)",
      "\n",
      "Requirement already satisfied: numpy>=1.9.0 in c:\\users\\pc\\appdata\\roaming\\python\\python36\\site-packages (from pandas>=0.21->pandas_datareader) (1.17.2)",
      "\n",
      "Requirement already satisfied: idna<2.9,>=2.5 in c:\\users\\pc\\appdata\\roaming\\python\\python36\\site-packages (from requests>=2.3.0->pandas_datareader) (2.8)",
      "\n",
      "Requirement already satisfied: certifi>=2017.4.17 in c:\\users\\pc\\appdata\\roaming\\python\\python36\\site-packages (from requests>=2.3.0->pandas_datareader) (2019.9.11)",
      "\n",
      "Requirement already satisfied: chardet<3.1.0,>=3.0.2 in c:\\users\\pc\\appdata\\roaming\\python\\python36\\site-packages (from requests>=2.3.0->pandas_datareader) (3.0.4)",
      "\n",
      "Requirement already satisfied: urllib3!=1.25.0,!=1.25.1,<1.26,>=1.21.1 in c:\\users\\pc\\appdata\\roaming\\python\\python36\\site-packages (from requests>=2.3.0->pandas_datareader) (1.25.6)",
      "\n",
      "Requirement already satisfied: six>=1.5 in c:\\users\\pc\\appdata\\local\\programs\\python\\python36\\lib\\site-packages (from python-dateutil>=2.5.0->pandas>=0.21->pandas_datareader) (1.11.0)",
      "\n"
     ],
     "output_type": "stream"
    },
    {
     "name": "stderr",
     "text": [
      "WARNING: You are using pip version 19.2.3, however version 19.3 is available.\nYou should consider upgrading via the 'python -m pip install --upgrade pip' command.",
      "\n"
     ],
     "output_type": "stream"
    }
   ],
   "source": [
    "import numpy as np                  # Vectores\n",
    "import pandas as pd                 # DataFrames\n",
    "import matplotlib.pyplot as plt     # Gráficas\n",
    "import math                         # Operaciones\n",
    "import seaborn as sns               # Gráficos y controles de Scrapping\n",
    "import random                       # Muestreos aleatorios\n",
    "import quandl                       # Datasets financieros\n",
    "import yahoo_finance                # Acceso a Yahoo Finanzas\n",
    "import selenium\n",
    "import time\n",
    "import pyautogui                    # Controla el cursor\n",
    "import PIL                          # Para manipular imágenes\n",
    "\n",
    "### Tools for Monte Carlo Simulation\n",
    "from IPython.display import clear_output\n",
    "\n",
    "\n",
    "### selenium package tools\n",
    "from selenium import webdriver\n",
    "from selenium.webdriver.common.keys import Keys\n",
    "from selenium.webdriver.common.action_chains import ActionChains\n",
    "from selenium.webdriver.support.ui import WebDriverWait\n",
    "from selenium.webdriver.support import expected_conditions as EC1\n",
    "from selenium.webdriver.common.by import By\n",
    "\n",
    "### SciPy Dstributions\n",
    "from scipy import stats             # Paquetería estadística\n",
    "from scipy.stats import kstest      # Prueba de Kolmogorov-Smirnov\n",
    "from scipy.stats import beta        # Distribución Beta\n",
    "from scipy.stats import expon       # Distribución Exponencial\n",
    "from scipy.stats import uniform     # Distribución uniforme\n",
    "from scipy.stats import norm        # Distribución normal\n",
    "from scipy.stats import binom       # Distribución Binomial\n",
    "\n",
    "### PIL image handler\n",
    "from PIL import Image\n",
    "\n",
    "### Forced installation of pandas_datareader\n",
    "import pip\n",
    "from pip._internal import main\n",
    "main(['install', 'pandas_datareader'])\n",
    "#main(['install', 'fix_yahoo_finance'])\n",
    "from pandas_datareader import data as web\n",
    "#import fix_yahoo_finance\n",
    "\n",
    "\n",
    "%matplotlib inline"
   ],
   "metadata": {
    "collapsed": false,
    "pycharm": {
     "name": "#%%\n",
     "is_executing": false
    }
   }
  },
  {
   "cell_type": "markdown",
   "source": [
    "## Some helpful functions\n",
    "Lets define a function to generate a random number in a particular range:"
   ],
   "metadata": {
    "collapsed": false,
    "pycharm": {
     "name": "#%% md\n"
    }
   }
  },
  {
   "cell_type": "code",
   "execution_count": 4,
   "outputs": [],
   "source": [
    "Pi_constant = math.pi       ### Pi to be used in calculations\n",
    "e_constant = math.exp(1)    ### e to be used in calculations\n",
    "\n",
    "### START FUNCTION ###\n",
    "def get_rand_number(min_value, max_value):\n",
    "    \"\"\"\n",
    "    This function gets a random number from a uniform distribution between\n",
    "    the two input values [min_value, max_value] inclusively\n",
    "    Args:\n",
    "    - min_value (float)\n",
    "    - max_value (float)\n",
    "    Return:\n",
    "    - Random number between this range (float)\n",
    "    \"\"\"\n",
    "    range = max_value - min_value\n",
    "    choice = random.uniform(0,1)\n",
    "    \n",
    "    return min_value + range*choice\n",
    "### END FUNCTION ###\n"
   ],
   "metadata": {
    "collapsed": false,
    "pycharm": {
     "name": "#%%\n",
     "is_executing": false
    }
   }
  },
  {
   "cell_type": "markdown",
   "source": [
    "Lets also define our integrand function $f(x)$:"
   ],
   "metadata": {
    "collapsed": false,
    "pycharm": {
     "name": "#%% md\n"
    }
   }
  },
  {
   "cell_type": "code",
   "execution_count": 6,
   "outputs": [],
   "source": [
    "def f_of_x(x):\n",
    "    \"\"\"\n",
    "    This is the main function we want to integrate over.\n",
    "    Args:\n",
    "    - x (float) : input to function; must be in radians\n",
    "    Return:\n",
    "    - output of function f(x) (float)\n",
    "    \"\"\"\n",
    "    return (e_constant**(-1*x))/(1+(x-1)**2)"
   ],
   "metadata": {
    "collapsed": false,
    "pycharm": {
     "name": "#%%\n",
     "is_executing": false
    }
   }
  },
  {
   "cell_type": "markdown",
   "source": [
    "## Applying Monte Carlo"
   ],
   "metadata": {
    "collapsed": false,
    "pycharm": {
     "name": "#%% md\n"
    }
   }
  },
  {
   "cell_type": "markdown",
   "source": [
    "The algorithm is defined as follows:\n",
    "\n",
    "1. Get random input value from integration range $[a, b]$\n",
    "\n",
    "2. Eevaluate the integrand\n",
    "\n",
    "3. Repeat steps 1 and 2 as needed\n",
    "\n",
    "4. Determine average of these samples\n",
    "\n",
    "5. Multiply by range"
   ],
   "metadata": {
    "collapsed": false,
    "pycharm": {
     "name": "#%% md\n"
    }
   }
  },
  {
   "cell_type": "code",
   "execution_count": 9,
   "outputs": [
    {
     "data": {
      "text/plain": "0.6975404552708728"
     },
     "metadata": {},
     "output_type": "execute_result",
     "execution_count": 9
    }
   ],
   "source": [
    "def crude_monte_carlo(num_samples):\n",
    "    \"\"\"\n",
    "    This function performs Monte Carlo for our\n",
    "    specific function f(x) on the range x=0 to x=5.\n",
    "    Notice that this bound is sufficient because f(x)\n",
    "    approaches 0 at around PI.\n",
    "    Args:\n",
    "    - num_samples (float) : number of samples\n",
    "    Return:\n",
    "    - Monte Carlo estimation (float)\n",
    "    \"\"\"\n",
    "    lower_bound = 0\n",
    "    upper_bound = 5\n",
    "    \n",
    "    sum_of_samples = 0\n",
    "    for i in range(num_samples):\n",
    "        x = get_rand_number(lower_bound, upper_bound)\n",
    "        sum_of_samples += f_of_x(x)\n",
    "    \n",
    "    return (upper_bound - lower_bound) * float(sum_of_samples/num_samples)\n",
    "\n",
    "crude_monte_carlo(10000)"
   ],
   "metadata": {
    "collapsed": false,
    "pycharm": {
     "name": "#%%\n",
     "is_executing": false
    }
   }
  },
  {
   "cell_type": "markdown",
   "source": [
    "## Calculating the Variance"
   ],
   "metadata": {
    "collapsed": false,
    "pycharm": {
     "name": "#%% md\n"
    }
   }
  },
  {
   "cell_type": "markdown",
   "source": [
    "We will calculate according to the formula:\n",
    "\n",
    "$$\\sigma^{2} = (\\frac{b-a}{N} \\Sigma^{N}_{i} f(x_{i})^{2}) - (\\Sigma^{N}_{j} \\frac{b-a}{N} f(x_{j}))^{2}$$"
   ],
   "metadata": {
    "collapsed": false,
    "pycharm": {
     "name": "#%% md\n"
    }
   }
  },
  {
   "cell_type": "code",
   "execution_count": 11,
   "outputs": [
    {
     "data": {
      "text/plain": "0.273326746528342"
     },
     "metadata": {},
     "output_type": "execute_result",
     "execution_count": 11
    }
   ],
   "source": [
    "def get_MC_variance(num_samples):\n",
    "    \"\"\"\n",
    "    This function returns the variance for Monte Carlo.\n",
    "    Note that the inputed number of samples does not neccissarily\n",
    "    need to correspond to number of samples used in the Monte\n",
    "    Carlo Simulation.\n",
    "    Args:\n",
    "    - num_samples (int)\n",
    "    Return:\n",
    "    - Variance for Monte Carlo approximation of f(x) (float)\n",
    "    \"\"\"\n",
    "    int_max = 5 # this is the max of our integration range\n",
    "    \n",
    "    # get the average of squares\n",
    "    running_total = 0\n",
    "    for i in range(num_samples):\n",
    "        x = get_rand_number(0, int_max)\n",
    "        running_total += f_of_x(x)**2\n",
    "    sum_of_sqs = running_total*int_max / num_samples\n",
    "    \n",
    "    # get square of average\n",
    "    running_total = 0\n",
    "    for i in range(num_samples):\n",
    "        x = get_rand_number(0, int_max)\n",
    "        running_total = f_of_x(x)\n",
    "    sq_ave = (int_max*running_total/num_samples)**2\n",
    "    \n",
    "    return sum_of_sqs - sq_ave\n",
    "\n",
    "get_MC_variance(10000)"
   ],
   "metadata": {
    "collapsed": false,
    "pycharm": {
     "name": "#%%\n",
     "is_executing": false
    }
   }
  },
  {
   "cell_type": "markdown",
   "source": [
    "## Importance Sampling"
   ],
   "metadata": {
    "collapsed": false,
    "pycharm": {
     "name": "#%% md\n"
    }
   }
  },
  {
   "cell_type": "markdown",
   "source": [
    "Method for reducing the variance of Monte Carlo simulation without increasing the \n",
    "number of samples.\n",
    "\n",
    "This method is used to determine the optimal function $g(x)$\n",
    "\n",
    "We want $g(x)$ to look like an scaled version of $f(x)$, so we need $g(x)$ such that:\n",
    "\n",
    "$$\\frac{f(x)}{g(x)} \\approx k$$"
   ],
   "metadata": {
    "collapsed": false,
    "pycharm": {
     "name": "#%% md\n"
    }
   }
  },
  {
   "cell_type": "markdown",
   "source": [
    "We need $g(x)$ to satisfy certain criteria:\n",
    "\n",
    "1. to be integrable\n",
    "\n",
    "2. non-negative on $[a, b]$\n",
    "\n",
    "3. Indefinite integral of $g(x)$ has a real inverse\n",
    "\n",
    "4. $\\int^{b}_{a} g(x) dx = 1$\n",
    "\n",
    "Ideally, $k g(x) = f(x)$, but if that was the case, $f(x)$ would be integrable and there\n",
    "would be no need for $g(x)$"
   ],
   "metadata": {
    "collapsed": false,
    "pycharm": {
     "name": "#%% md\n"
    }
   }
  },
  {
   "cell_type": "markdown",
   "source": [
    "We need to define $G(x)$ as follows:\n",
    "\n",
    "$$G(x) = \\int^{x}_{0} g(x) dx$$\n",
    "\n",
    "and let:\n",
    "\n",
    "$$r = G(x)$$\n",
    "\n",
    "We will then sample from $r$"
   ],
   "metadata": {
    "collapsed": false,
    "pycharm": {
     "name": "#%% md\n"
    }
   }
  },
  {
   "cell_type": "markdown",
   "source": [
    "The sum that we´ll e calculating when we perform Monte Carlo Simulation is:\n",
    "\n",
    "$$I \\approx \\frac{1}{N} \\Sigma^{N}_{i} \\frac{f(G^{-1}(r_{i}))}{g(G^{-1}(r_{i}))}$$"
   ],
   "metadata": {
    "collapsed": false,
    "pycharm": {
     "name": "#%% md\n"
    }
   }
  },
  {
   "cell_type": "markdown",
   "source": [
    "## Solving the problem"
   ],
   "metadata": {
    "collapsed": false,
    "pycharm": {
     "name": "#%% md\n"
    }
   }
  },
  {
   "cell_type": "markdown",
   "source": [
    "We will try to solve the following integral:\n",
    "\n",
    "$$I = \\int^{\\infty}_{0} \\frac{e^{-x}}{1 + (x-1)^{2}} dx$$"
   ],
   "metadata": {
    "collapsed": false,
    "pycharm": {
     "name": "#%% md\n"
    }
   }
  },
  {
   "cell_type": "markdown",
   "source": [
    "### Visualizing the problem:\n",
    "To get $g(x)$, we need to see $f(x)$:"
   ],
   "metadata": {
    "collapsed": false,
    "pycharm": {
     "name": "#%% md\n"
    }
   }
  },
  {
   "cell_type": "code",
   "execution_count": 13,
   "outputs": [
    {
     "data": {
      "text/plain": "Text(0.5,1,'f(x)')"
     },
     "metadata": {},
     "output_type": "execute_result",
     "execution_count": 13
    },
    {
     "data": {
      "text/plain": "<Figure size 432x288 with 1 Axes>",
      "image/png": "[encoded data removed]"
     },
     "metadata": {},
     "output_type": "display_data"
    }
   ],
   "source": [
    "xs = [float(i/50) for i in range(int(50*Pi_constant*2))]\n",
    "ys = [f_of_x(x) for x in xs]\n",
    "\n",
    "plt.plot(xs, ys)\n",
    "plt.title('f(x)')"
   ],
   "metadata": {
    "collapsed": false,
    "pycharm": {
     "name": "#%%\n",
     "is_executing": false
    }
   }
  },
  {
   "cell_type": "markdown",
   "source": [
    "We can observe that the funtion is active in the appriximate interval of $(0, 3)$ and\n",
    "innactive past a neighborhood of 3. We propose the following function:\n",
    "\n",
    "$$g(x) = Ae^{-\\lambda x}$$\n",
    "\n",
    "So we need to find optimal parameters $A$ and $\\lambda$"
   ],
   "metadata": {
    "collapsed": false,
    "pycharm": {
     "name": "#%% md\n"
    }
   }
  },
  {
   "cell_type": "markdown",
   "source": [
    "We can do so using the *normalization condition*:\n",
    "\n",
    "$$1 = \\int^{\\infty}_{0} g(x) dx \\Rightarrow A = \\lambda$$\n",
    "\n",
    "So if we find the ideal $\\lambda$, we´ll find the ideal $g(x)$\n",
    " \n",
    "In order to find this value, we will have to calculate the variance for different \n",
    "values of $\\lambda$ in the interval $[0.05, 3]$ and use the $\\lambda$ with the\n",
    "lowest variance"
   ],
   "metadata": {
    "collapsed": false,
    "pycharm": {
     "name": "#%% md\n"
    }
   }
  },
  {
   "cell_type": "markdown",
   "source": [
    "The algorithm would be as follows:\n",
    "\n",
    "1. Start at $\\lambda = 0.05$\n",
    "\n",
    "2. Calculate variance\n",
    "\n",
    "3. Increase $\\lambda$\n",
    "\n",
    "4. Repeat steps 2 and 3 until reaching the last $\\lambda$\n",
    "\n",
    "5. Pick optimal $\\lambda$ (the one with the lowest variance)\n",
    "\n",
    "6. Use Importance Sampling with Monte Carlo to calculate the integral"
   ],
   "metadata": {
    "collapsed": false,
    "pycharm": {
     "name": "#%% md\n"
    }
   }
  },
  {
   "cell_type": "markdown",
   "source": [
    "Code for finding the optimal $\\lambda$:"
   ],
   "metadata": {
    "collapsed": false,
    "pycharm": {
     "name": "#%% md\n"
    }
   }
  },
  {
   "cell_type": "code",
   "execution_count": 14,
   "outputs": [
    {
     "name": "stdout",
     "text": [
      "Optimal Lambda: 1.6500000000000001\nOptimal Variance: 0.047144023396919144\nError: 0.0021712674500604283\n"
     ],
     "output_type": "stream"
    }
   ],
   "source": [
    "### START FUNCTION ###\n",
    "def g_of_x(x, A, lamda):\n",
    "    e = 2.71828\n",
    "    return A*math.pow(e, -1*lamda*x)\n",
    "### END FUNCTION ###\n",
    "\n",
    "### START FUNCTION ###\n",
    "def inverse_G_of_r(r, lamda):\n",
    "    return (-1 * math.log(float(r)))/lamda\n",
    "### END FUNCTION ###\n",
    "\n",
    "### START FUNCTION ###\n",
    "def get_IS_variance(lamda, num_samples):\n",
    "    \"\"\"\n",
    "    This function calculates the variance if a Monte Carlo\n",
    "    using importance sampling.\n",
    "    Args:\n",
    "    - lamda (float) : lamdba value of g(x) being tested\n",
    "    Return: \n",
    "    - Variance\n",
    "    \"\"\"\n",
    "    A = lamda\n",
    "    int_max = 5\n",
    "    \n",
    "    # get sum of squares\n",
    "    running_total = 0\n",
    "    for i in range(num_samples):\n",
    "        x = get_rand_number(0, int_max)\n",
    "        running_total += (f_of_x(x)/g_of_x(x, A, lamda))**2\n",
    "    \n",
    "    sum_of_sqs = running_total / num_samples\n",
    "    \n",
    "    # get squared average\n",
    "    running_total = 0\n",
    "    for i in range(num_samples):\n",
    "        x = get_rand_number(0, int_max)\n",
    "        running_total += f_of_x(x)/g_of_x(x, A, lamda)\n",
    "    sq_ave = (running_total/num_samples)**2\n",
    "    \n",
    "    \n",
    "    return sum_of_sqs - sq_ave\n",
    "### END FUNCTION ###\n",
    "\n",
    "# get variance as a function of lambda by testing many\n",
    "# different lambdas\n",
    "\n",
    "test_lamdas = [i*0.05 for i in range(1, 61)]\n",
    "variances = []\n",
    "\n",
    "for i, lamda in enumerate(test_lamdas):\n",
    "    print(f\"lambda {i+1}/{len(test_lamdas)}: {lamda}\")\n",
    "    A = lamda\n",
    "    variances.append(get_IS_variance(lamda, 10000))\n",
    "    clear_output(wait=True)\n",
    "    \n",
    "optimal_lamda = test_lamdas[np.argmin(np.asarray(variances))]\n",
    "IS_variance = variances[np.argmin(np.asarray(variances))]\n",
    "\n",
    "print(f\"Optimal Lambda: {optimal_lamda}\")\n",
    "print(f\"Optimal Variance: {IS_variance}\")\n",
    "print(f\"Error: {(IS_variance/10000)**0.5}\") "
   ],
   "metadata": {
    "collapsed": false,
    "pycharm": {
     "name": "#%%\n",
     "is_executing": false
    }
   }
  },
  {
   "cell_type": "markdown",
   "source": [
    "We can observe that the error decreased in a factor of approximately 2 using the\n",
    "same number of samples, but with Importance Sampling."
   ],
   "metadata": {
    "collapsed": false,
    "pycharm": {
     "name": "#%% md\n"
    }
   }
  },
  {
   "cell_type": "markdown",
   "source": [
    "## Simulation"
   ],
   "metadata": {
    "collapsed": false,
    "pycharm": {
     "name": "#%% md\n"
    }
   }
  },
  {
   "cell_type": "markdown",
   "source": [
    "Now we perform Monte Carlo Simulation with the optimized $g(x)$ function:"
   ],
   "metadata": {
    "collapsed": false,
    "pycharm": {
     "name": "#%% md\n"
    }
   }
  },
  {
   "cell_type": "code",
   "execution_count": 15,
   "outputs": [],
   "source": [
    "### START FUNCTION ###\n",
    "def importance_sampling_Monte_Carlo(lamda, num_samples):\n",
    "    A = lamda\n",
    "    running_total = 0\n",
    "    for i in range(num_samples):\n",
    "        r = get_rand_number(0,1)\n",
    "        running_total += f_of_x(inverse_G_of_r(r, lamda=lamda))/g_of_x(inverse_G_of_r(r, lamda=lamda), A, lamda)\n",
    "    approximation = float(running_total/num_samples)\n",
    "    return approximation\n",
    "### END FUNCTION ###"
   ],
   "metadata": {
    "collapsed": false,
    "pycharm": {
     "name": "#%%\n",
     "is_executing": false
    }
   }
  },
  {
   "cell_type": "markdown",
   "source": [
    "We run the simulation:"
   ],
   "metadata": {
    "collapsed": false,
    "pycharm": {
     "name": "#%% md\n"
    }
   }
  },
  {
   "cell_type": "code",
   "execution_count": 16,
   "outputs": [
    {
     "name": "stdout",
     "text": [
      "Importance Sampling Approximation: 0.701366357870612\nVariance: 0.05249046464462348\nError: 0.0022910797595156627\n"
     ],
     "output_type": "stream"
    }
   ],
   "source": [
    "num_samples = 10000\n",
    "approx = importance_sampling_Monte_Carlo(optimal_lamda, num_samples)\n",
    "variance = get_IS_variance(optimal_lamda, num_samples)\n",
    "error = (variance/num_samples)**0.5\n",
    "\n",
    "# display results\n",
    "print(f\"Importance Sampling Approximation: {approx}\")\n",
    "print(f\"Variance: {variance}\")\n",
    "print(f\"Error: {error}\")\n",
    "\n"
   ],
   "metadata": {
    "collapsed": false,
    "pycharm": {
     "name": "#%%\n",
     "is_executing": false
    }
   }
  }
 ],
 "metadata": {
  "kernelspec": {
   "display_name": "Python 3",
   "language": "python",
   "name": "python3"
  },
  "language_info": {
   "codemirror_mode": {
    "name": "ipython",
    "version": 2
   },
   "file_extension": ".py",
   "mimetype": "text/x-python",
   "name": "python",
   "nbconvert_exporter": "python",
   "pygments_lexer": "ipython2",
   "version": "2.7.6"
  },
  "pycharm": {
   "stem_cell": {
    "cell_type": "raw",
    "source": [],
    "metadata": {
     "collapsed": false
    }
   }
  }
 },
 "nbformat": 4,
 "nbformat_minor": 0
}