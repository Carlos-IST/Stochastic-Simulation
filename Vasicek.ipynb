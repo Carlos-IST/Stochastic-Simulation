{
 "cells": [
  {
   "cell_type": "markdown",
   "metadata": {
    "collapsed": true,
    "pycharm": {
     "name": "#%% md\n"
    }
   },
   "source": [
    "# Modelo de Vasicek\n",
    "\n",
    "## Técnicas de Simulación: Trabajo Final\n",
    "\n",
    "#### Elaborado por:\n",
    "#### Carlos Iván Santillán Téllez\n",
    "\n",
    "## Bloque inicial:"
   ]
  },
  {
   "cell_type": "code",
   "execution_count": 1,
   "metadata": {
    "pycharm": {
     "is_executing": false,
     "name": "#%%\n"
    }
   },
   "outputs": [],
   "source": [
    "import numpy as np                  # Vectores\n",
    "import pandas as pd                 # DataFrames\n",
    "import matplotlib.pyplot as plt     # Gráficas\n",
    "import math                         # Operaciones\n",
    "import seaborn as sns               # Gráficos y controles de Scrapping\n",
    "import random                       # Muestreos aleatorios\n",
    "import time\n",
    "import PIL                          # Para manipular imágenes\n",
    "\n",
    "from pylab import plot, title, xlabel, ylabel, show"
   ]
  },
  {
   "cell_type": "markdown",
   "metadata": {
    "pycharm": {
     "name": "#%% md\n"
    }
   },
   "source": [
    "## Descripción del modelo\n",
    "\n",
    "Para la simulación nos basaremos en la solución de tipo **Euler - Maruyama** para el \n",
    "modelo de Vasicek, lo cual es:\n",
    "\n",
    "$$r_{dt} = r_{t} + \\lambda(\\mu - r_{t})dt + \\sigma \\sqrt{dt} W_{t}$$\n",
    "\n",
    "En este modelo, los parámetros explican lo siguiente:\n",
    "\n",
    "- $\\lambda$ controla la velocidad de reversión a la media\n",
    "\n",
    "- $\\mu$ es la media de largo plazo, al rededor de la cual sucede la reversión\n",
    "\n",
    "- $\\sigma$ es la volatilidad"
   ]
  },
  {
   "cell_type": "markdown",
   "metadata": {
    "pycharm": {
     "name": "#%% md\n"
    }
   },
   "source": [
    "## Modelo de Vasicek aplicado al CETE"
   ]
  },
  {
   "cell_type": "markdown",
   "metadata": {
    "pycharm": {
     "name": "#%% md\n"
    }
   },
   "source": [
    "Tomamos datos históricos del CETE desde el 4 de enero del 2018 hasta el \n",
    "14 de noviembre del 2019:"
   ]
  },
  {
   "cell_type": "code",
   "execution_count": 2,
   "metadata": {
    "pycharm": {
     "is_executing": false,
     "name": "#%%\n"
    }
   },
   "outputs": [
    {
     "data": {
      "text/html": [
       "<div>\n",
       "<style scoped>\n",
       "    .dataframe tbody tr th:only-of-type {\n",
       "        vertical-align: middle;\n",
       "    }\n",
       "\n",
       "    .dataframe tbody tr th {\n",
       "        vertical-align: top;\n",
       "    }\n",
       "\n",
       "    .dataframe thead th {\n",
       "        text-align: right;\n",
       "    }\n",
       "</style>\n",
       "<table border=\"1\" class=\"dataframe\">\n",
       "  <thead>\n",
       "    <tr style=\"text-align: right;\">\n",
       "      <th></th>\n",
       "      <th>Fecha</th>\n",
       "      <th>Tasa</th>\n",
       "    </tr>\n",
       "  </thead>\n",
       "  <tbody>\n",
       "    <tr>\n",
       "      <th>0</th>\n",
       "      <td>04/01/2018</td>\n",
       "      <td>7.25</td>\n",
       "    </tr>\n",
       "    <tr>\n",
       "      <th>1</th>\n",
       "      <td>11/01/2018</td>\n",
       "      <td>7.24</td>\n",
       "    </tr>\n",
       "    <tr>\n",
       "      <th>2</th>\n",
       "      <td>18/01/2018</td>\n",
       "      <td>7.24</td>\n",
       "    </tr>\n",
       "    <tr>\n",
       "      <th>3</th>\n",
       "      <td>25/01/2018</td>\n",
       "      <td>7.25</td>\n",
       "    </tr>\n",
       "    <tr>\n",
       "      <th>4</th>\n",
       "      <td>01/02/2018</td>\n",
       "      <td>7.24</td>\n",
       "    </tr>\n",
       "  </tbody>\n",
       "</table>\n",
       "</div>"
      ],
      "text/plain": [
       "        Fecha  Tasa\n",
       "0  04/01/2018  7.25\n",
       "1  11/01/2018  7.24\n",
       "2  18/01/2018  7.24\n",
       "3  25/01/2018  7.25\n",
       "4  01/02/2018  7.24"
      ]
     },
     "execution_count": 2,
     "metadata": {},
     "output_type": "execute_result"
    }
   ],
   "source": [
    "datos_CETE_28 = pd.read_csv(\"C:/Users/PC/Desktop/ULSA/7 Semestre/Simulacion/CETE_28.csv\")\n",
    "datos_CETE_28.head()"
   ]
  },
  {
   "cell_type": "markdown",
   "metadata": {
    "pycharm": {
     "name": "#%% md\n"
    }
   },
   "source": [
    "Últimos registros:"
   ]
  },
  {
   "cell_type": "code",
   "execution_count": 3,
   "metadata": {
    "pycharm": {
     "is_executing": false,
     "name": "#%%\n"
    }
   },
   "outputs": [
    {
     "data": {
      "text/html": [
       "<div>\n",
       "<style scoped>\n",
       "    .dataframe tbody tr th:only-of-type {\n",
       "        vertical-align: middle;\n",
       "    }\n",
       "\n",
       "    .dataframe tbody tr th {\n",
       "        vertical-align: top;\n",
       "    }\n",
       "\n",
       "    .dataframe thead th {\n",
       "        text-align: right;\n",
       "    }\n",
       "</style>\n",
       "<table border=\"1\" class=\"dataframe\">\n",
       "  <thead>\n",
       "    <tr style=\"text-align: right;\">\n",
       "      <th></th>\n",
       "      <th>Fecha</th>\n",
       "      <th>Tasa</th>\n",
       "    </tr>\n",
       "  </thead>\n",
       "  <tbody>\n",
       "    <tr>\n",
       "      <th>93</th>\n",
       "      <td>17/10/2019</td>\n",
       "      <td>7.67</td>\n",
       "    </tr>\n",
       "    <tr>\n",
       "      <th>94</th>\n",
       "      <td>24/10/2019</td>\n",
       "      <td>7.65</td>\n",
       "    </tr>\n",
       "    <tr>\n",
       "      <th>95</th>\n",
       "      <td>31/10/2019</td>\n",
       "      <td>7.62</td>\n",
       "    </tr>\n",
       "    <tr>\n",
       "      <th>96</th>\n",
       "      <td>07/11/2019</td>\n",
       "      <td>7.55</td>\n",
       "    </tr>\n",
       "    <tr>\n",
       "      <th>97</th>\n",
       "      <td>14/11/2019</td>\n",
       "      <td>7.45</td>\n",
       "    </tr>\n",
       "  </tbody>\n",
       "</table>\n",
       "</div>"
      ],
      "text/plain": [
       "         Fecha  Tasa\n",
       "93  17/10/2019  7.67\n",
       "94  24/10/2019  7.65\n",
       "95  31/10/2019  7.62\n",
       "96  07/11/2019  7.55\n",
       "97  14/11/2019  7.45"
      ]
     },
     "execution_count": 3,
     "metadata": {},
     "output_type": "execute_result"
    }
   ],
   "source": [
    "datos_CETE_28.tail()"
   ]
  },
  {
   "cell_type": "markdown",
   "metadata": {
    "pycharm": {
     "name": "#%% md\n"
    }
   },
   "source": [
    "Nos quedamos con un vector de tasas:"
   ]
  },
  {
   "cell_type": "code",
   "execution_count": 5,
   "metadata": {
    "pycharm": {
     "is_executing": false,
     "name": "#%%\n"
    }
   },
   "outputs": [],
   "source": [
    "vector_Tasas_28 = datos_CETE_28['Tasa'].values"
   ]
  },
  {
   "cell_type": "markdown",
   "metadata": {
    "pycharm": {
     "name": "#%% md\n"
    }
   },
   "source": [
    "### Calibración de parámetros"
   ]
  },
  {
   "cell_type": "markdown",
   "metadata": {
    "pycharm": {
     "name": "#%% md\n"
    }
   },
   "source": [
    "Usando Máxima Verosimilitud, podemos calibrar nuestros parámetros de la \n",
    "siguiente manera:\n",
    "\n",
    "Sabemos que la función de densidad de la distribución Normal es:\n",
    "$$f(x)_{X} = \\frac{1}{\\sqrt{2\\pi}} e^{\\frac{-1}{2} x^{2}}$$\n",
    "\n",
    "De modo que la probabilidad condicional de observar $S_{i+1}$ dado que se \n",
    "observó $S_{i}$, para un intervalo de tiempo $t$ estará dada por:\n",
    "\n",
    "$$f(S_{i+1} | S_{i}) = \\frac{1}{\\sqrt{2\\pi \\sigma^{2}}} e^{-\\frac{(S_{i} - S_{i-1} e^{-\\lambda t} -\\mu(1 - e^{-\\lambda t}))^{2}}{2 \\sigma^{2}}}$$\n",
    "\n",
    "Podemos entonces encontrar la función de Log-verosimilitud:\n",
    "\n",
    "$$L(\\mu, \\lambda, \\sigma) = \\Pi^{n}_{i = 1} f(S_{i})$$\n",
    "\n",
    "$$= -\\frac{n}{2} ln(2\\pi) - nln(\\sigma) - \\frac{1}{2 \\sigma^{2}} \\Sigma^{n}_{i=1} (S_{i} - S_{i-1} e^{-\\lambda t} -\\mu(1 - e^{-\\lambda t}))^{2}$$"
   ]
  },
  {
   "cell_type": "markdown",
   "metadata": {
    "pycharm": {
     "name": "#%% md\n"
    }
   },
   "source": [
    "Así pues, derivando e igualando a cero encontramos estimadores para los parámetros\n",
    "\n",
    "- Estimador para $\\mu$\n",
    "\n",
    "$$\\frac{\\partial L}{\\partial \\mu} = \\frac{1}{\\sigma^{2}} \\Sigma{n}_{i=1} S_{i} - S_{i-1} e^{-\\lambda t} -\\mu(1 - e^{-\\lambda t}$$\n",
    "\n",
    "$$\\mu = \\frac{\\Sigma^{n}_{i=!} S_{i} - S_{i-1} e^{-\\lambda t}}{n(1 - e^{-\\lambda t})}$$\n",
    "\n",
    "- Estimador para $\\lambda$\n",
    "\n",
    "$$\\frac{\\partial L}{\\partial \\lambda} = -\\frac{t e^{-\\lambda t}}{\\sigma^{2}} \\Sigma^{n}_{i=1} (S_{i}-\\mu)(S_{i-1}- \\mu) - e^{-\\lambda t}(S_{i-1} - \\mu)^{2}$$\n",
    "\n",
    "$$\\lambda = -\\frac{1}{t} ln(\\frac{\\Sigma^{n}_{i=1} (S_{i}-\\mu)(S_{i-1}-\\mu)}{\\Sigma^{n}_{i=1}(S_{i-1}-\\mu)^{2}})$$\n",
    "\n",
    "- Estimador para $\\sigma$\n",
    "\n",
    "$$\\frac{\\partial L}{\\partial \\sigma} = \\frac{n}{\\sigma} - \\frac{1}{\\sigma^{3}} \\Sigma^{n}_{i=1} (S_{i} - \\mu - e^{-\\lambda t} (S_{i-1}- \\mu))^{2}$$\n",
    "\n",
    "$$\\hat{\\sigma^{2}} = \\frac{1}{n} \\Sigma^{n}_{i=1} (S_{i} - \\mu - e^{-\\lambda t} (S_{i-1}- \\mu))^{2} $$\n",
    "\n"
   ]
  },
  {
   "cell_type": "markdown",
   "metadata": {
    "pycharm": {
     "name": "#%% md\n"
    }
   },
   "source": [
    "Para poder llegar a expresiones más fáciles de programar, hacemos los siguientes \n",
    "cambios de variable:\n",
    "\n",
    "- $S_{x} = \\Sigma^{n}_{i=1} S_{i-1}$\n",
    "\n",
    "- $S_{y} = \\Sigma^{n}_{i=1} S_{i}$\n",
    "\n",
    "- $S_{xx} = \\Sigma^{n}_{i=1} S_{i-1}^{2}$\n",
    "\n",
    "- $S_{yy} = \\Sigma^{n}_{i=1} S_{i}^{2}$\n",
    "\n",
    "- $S_{xy} = \\Sigma^{n}_{i=1} S_{i} S_{i-1}$"
   ]
  },
  {
   "cell_type": "markdown",
   "metadata": {
    "pycharm": {
     "name": "#%% md\n"
    }
   },
   "source": [
    "Ya podemos re-expresar a nuestros parámetros como:\n",
    "\n",
    "$$ \\mu = \\frac{S_{y} S_{xx} - S_{x} S_{xy}}{n(S_{xx} - S_{xy}) - (S_{x}^{2} - S_{x} S_{y})}$$\n",
    "\n",
    "$$\\lambda = -\\frac{1}{t} ln(\\frac{S_{xy} - \\mu S_{x} - \\mu S_{y} -n \\mu^{2}}{S_{xx} - 2\\mu S_{x} + n \\mu^{2}}) $$\n",
    "\n",
    "$$\\hat{\\sigma^{2}} = \\frac{1}{n} (S_{yy} - 2\\alpha S_{xy} + \\alpha^{2} S_{xx} - 2\\mu (1 - \\alpha) (S_{y} - \\alpha S_{x}) + n \\mu^{2} (1 - \\alpha)^{2})$$ \n",
    "\n",
    "donde $\\alpha = e^{-\\lambda t}$ y así:\n",
    "\n",
    "$$\\sigma^{2} = \\hat{\\sigma^{2}} \\frac{2 \\lambda}{1 - \\alpha^{2}} $$"
   ]
  },
  {
   "cell_type": "markdown",
   "metadata": {
    "pycharm": {
     "name": "#%% md\n"
    }
   },
   "source": [
    "### Función para calibración de parámetros"
   ]
  },
  {
   "cell_type": "code",
   "execution_count": 7,
   "metadata": {
    "pycharm": {
     "is_executing": false,
     "name": "#%%\n"
    }
   },
   "outputs": [],
   "source": [
    "### INICIA FUNCIÓN ###\n",
    "def calibra_parametros(vector_tasas):\n",
    "    \"\"\"\n",
    "    Función que realiza calibración de parámetros para media de largo plazo,\n",
    "    velocidad de reversión y volatilidad\n",
    "    :param vector_tasas: numpy array con tasas\n",
    "    :return: vector_parametros = [mu, lambdaParam, sigma1]\n",
    "    \"\"\"\n",
    "    T = len(vector_tasas)             ### Tiempo total\n",
    "    m = 1                             ### Tamaño de intervalo de tiempo\n",
    "    n = len(vector_tasas) - 1       \n",
    "    a = np.delete(vector_tasas, -1)   ### vector de tasas sin última entrada\n",
    "    b = np.delete(vector_tasas, 0)    ### vector de tasas sin primera entrada\n",
    "    producto_ab = a * b               ### producto vectorial \n",
    "    \n",
    "    ### COntruimos factores para facilitar cálculo\n",
    "    Sx = np.sum(a)\n",
    "    Sy = np.sum(b)\n",
    "    Sxx = np.sum(np.square(a))\n",
    "    Syy = np.sum(np.square(b))\n",
    "    Sxy = np.sum(producto_ab)\n",
    "    \n",
    "    ### Calculamos parámetros por Máxima Verosimilitud\n",
    "    mu = ((Sy * Sxx) - (Sx * Sxy)) / (n * (Sxx - Sxy) - (Sx**2 - (Sx * Sy)))\n",
    "    \n",
    "    lambdaParam = ((Sxy - (mu * Sx) - (mu * Sy) + (n * mu**2))) /(Sxx - (2 * mu * Sx) + (n * mu**2)) / m\n",
    "\n",
    "    alfa = 1 - lambdaParam * m\n",
    "\n",
    "    sigmah2 = (Syy - 2*alfa*Sxy + (alfa**2)*Sxx - 2*mu*(1 - alfa)*(Sy - alfa*Sx) + n*(mu**2)*((1-alfa)**2)) / n\n",
    "\n",
    "    sigma1 = np.sqrt(sigmah2*2*lambdaParam / (1-alfa**2))\n",
    "    \n",
    "    vector_parametros = np.asarray([mu, lambdaParam, sigma1])\n",
    "    \n",
    "    return vector_parametros\n",
    "### FIN DE LA FUNCIÓN ###"
   ]
  },
  {
   "cell_type": "markdown",
   "metadata": {
    "pycharm": {
     "name": "#%% md\n"
    }
   },
   "source": [
    "Calibramos usando los datos del CETE:"
   ]
  },
  {
   "cell_type": "code",
   "execution_count": 29,
   "metadata": {
    "pycharm": {
     "is_executing": false,
     "name": "#%%\n"
    }
   },
   "outputs": [
    {
     "data": {
      "text/plain": [
       "array([7.79558611, 0.92570173, 0.32519426])"
      ]
     },
     "execution_count": 29,
     "metadata": {},
     "output_type": "execute_result"
    }
   ],
   "source": [
    "parametros = calibra_parametros(vector_Tasas_28)\n",
    "parametros"
   ]
  },
  {
   "cell_type": "markdown",
   "metadata": {
    "pycharm": {
     "name": "#%% md\n"
    }
   },
   "source": [
    "### Simulación usando diferentes valores de media de largo plazo\n",
    "\n",
    "Datos iniciales"
   ]
  },
  {
   "cell_type": "code",
   "execution_count": 101,
   "metadata": {
    "pycharm": {
     "is_executing": false,
     "name": "#%%\n"
    }
   },
   "outputs": [],
   "source": [
    "r0 = vector_Tasas_28[-1]                ### Punto de inicio última cotización de la tasa\n",
    "media = parametros[0]                   ### Primer entrada del vector de parámetros\n",
    "velocidad_Reversion = parametros[1]*2     ### Segunda entrada del vector de parámetros\n",
    "sigma = parametros[2]                   ### Tercera entrada del vector de parámetros\n",
    "\n",
    "n = 10                     ### Número de Simulciones\n",
    "T = len(vector_Tasas_28)   ### tiempo total (24\n",
    "m = 91                     ### subintervalos (100)\n",
    "dt = T / m                 ### diferencia en tiempo para cada subintervalo"
   ]
  },
  {
   "cell_type": "markdown",
   "metadata": {
    "pycharm": {
     "name": "#%% md\n"
    }
   },
   "source": [
    "Simulación:"
   ]
  },
  {
   "cell_type": "code",
   "execution_count": 102,
   "metadata": {
    "pycharm": {
     "is_executing": false,
     "name": "#%%\n"
    }
   },
   "outputs": [
    {
     "data": {
      "text/plain": [
       "[<matplotlib.lines.Line2D at 0x1c7a6000eb8>]"
      ]
     },
     "execution_count": 102,
     "metadata": {},
     "output_type": "execute_result"
    },
    {
     "data": {
      "image/png": "[encoded data removed]",
      "text/plain": [
       "<Figure size 432x288 with 1 Axes>"
      ]
     },
     "metadata": {
      "needs_background": "light"
     },
     "output_type": "display_data"
    }
   ],
   "source": [
    "r = np.zeros(shape=(n, m), dtype=float)     ### Matriz con las trayectorias\n",
    "medias = np.zeros(m)\n",
    "\n",
    "for j in range(0, n):\n",
    "    r[j,0] = r0\n",
    "    for i in range(1, m):\n",
    "        r[j,i] = r[j,i-1] + velocidad_Reversion * (media - r[j,i-1]) * dt + sigma * np.sqrt(dt) * np.random.normal(0,1)\n",
    "        medias[i] = np.mean(r[:,i])\n",
    "        \n",
    "    plot(np.arange(0, T, dt), r[j])\n",
    "\n",
    "medias[0] = r0\n",
    "plot(np.arange(0, T, dt), medias, 'b', linewidth=3)\n"
   ]
  },
  {
   "cell_type": "markdown",
   "metadata": {
    "pycharm": {
     "name": "#%% md\n"
    }
   },
   "source": [
    "Graficamos las trayectorias:"
   ]
  },
  {
   "cell_type": "code",
   "execution_count": 59,
   "metadata": {
    "pycharm": {
     "is_executing": false,
     "name": "#%%\n"
    }
   },
   "outputs": [
    {
     "name": "stdout",
     "output_type": "stream",
     "text": [
      "(50,)\n",
      "(10, 50)\n"
     ]
    },
    {
     "data": {
      "image/png": "[encoded data removed]",
      "text/plain": [
       "<Figure size 432x288 with 1 Axes>"
      ]
     },
     "metadata": {},
     "output_type": "display_data"
    }
   ],
   "source": [
    "t = np.arange(0, T, dt)\n",
    "rT_esperado = media + (r0 - media) * (np.exp(-velocidad_Reversion * t))\n",
    "rT_desviacion = np.sqrt((sigma**2) / (2*velocidad_Reversion) * (1 - (np.exp(-2*velocidad_Reversion*t))))\n",
    "#print('Esperado: ' + str(rT_esperado))\n",
    "#print(\"Desviación: \" + str(rT_desviacion))\n",
    "\n",
    "plot(t, rT_esperado, '-+r')\n",
    "plot(t, rT_esperado + 2 * rT_desviacion, '-b')\n",
    "plot(t, rT_esperado - 2 * rT_desviacion, '-b')\n",
    "plot(t, rT_esperado + 4 * rT_desviacion, '-g')\n",
    "plot(t, rT_esperado - 4 * rT_desviacion, '-g')\n",
    "\n",
    "print(t.shape)\n",
    "print(r.shape)\n",
    "\n",
    "title('Simulaciones %d Pasos %d r0 %.2f alfa %.2f sigma %.2f sigma %.2f' % (int(n), int(m), r0, velocidad_Reversion, media, sigma))\n",
    "xlabel('pasos')\n",
    "ylabel('Tasa de interés de corto plazo')\n",
    "show()"
   ]
  },
  {
   "cell_type": "markdown",
   "metadata": {
    "pycharm": {
     "name": "#%% md\n"
    }
   },
   "source": [
    "### Modelo de Vasicek (Función)"
   ]
  },
  {
   "cell_type": "code",
   "execution_count": 61,
   "metadata": {
    "pycharm": {
     "is_executing": false,
     "name": "#%%\n"
    }
   },
   "outputs": [
    {
     "data": {
      "image/png": "[encoded data removed]",
      "text/plain": [
       "<Figure size 432x288 with 1 Axes>"
      ]
     },
     "metadata": {},
     "output_type": "display_data"
    }
   ],
   "source": [
    "#\n",
    "import numpy as np\n",
    "\n",
    "def vasicek(r0, K, theta, sigma, T=1., N=10, seed=0):    \n",
    "    np.random.seed(seed)\n",
    "    dt = T/float(N)    \n",
    "    rendimientos = [r0]\n",
    "    for i in range(N):\n",
    "        dr = K*(theta-rendimientos[-1])*dt + sigma*np.random.normal(0, 1)\n",
    "        rendimientos.append(rendimientos[-1] + dr)\n",
    "    return range(N+1), rendimientos\n",
    "\n",
    "if __name__ == \"__main__\":\n",
    "    #x, y = vasicek(0.01875, 0.20, 0.01, 0.012, 10., 200)\n",
    "    #x, y = vasicek(0.075, 0.3, 0.1, 0.03, 24., 100)\n",
    "    x, y = vasicek(r0, velocidad_Reversion, media, sigma, 24., 100)\n",
    "    import matplotlib.pyplot as plt\n",
    "    plt.plot(x,y)\n",
    "    plt.show()"
   ]
  }
 ],
 "metadata": {
  "kernelspec": {
   "display_name": "Python 3",
   "language": "python",
   "name": "python3"
  },
  "language_info": {
   "codemirror_mode": {
    "name": "ipython",
    "version": 3
   },
   "file_extension": ".py",
   "mimetype": "text/x-python",
   "name": "python",
   "nbconvert_exporter": "python",
   "pygments_lexer": "ipython3",
   "version": "3.7.3"
  },
  "pycharm": {
   "stem_cell": {
    "cell_type": "raw",
    "metadata": {
     "collapsed": false
    },
    "source": []
   }
  }
 },
 "nbformat": 4,
 "nbformat_minor": 1
}
